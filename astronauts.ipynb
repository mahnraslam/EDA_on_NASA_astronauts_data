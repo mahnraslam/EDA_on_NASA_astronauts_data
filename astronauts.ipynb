{
 "cells": [
  {
   "cell_type": "markdown",
   "id": "50f2f015",
   "metadata": {},
   "source": [
    "# EDA on Astronauts Data\n"
   ]
  },
  {
   "cell_type": "code",
   "execution_count": 40,
   "metadata": {},
   "outputs": [],
   "source": [
    "import pandas as pd\n",
    "import numpy as np \n",
    "import datetime as dt\n",
    "import seaborn as sns \n",
    "import matplotlib.pylab as plt\n",
    "%matplotlib inline\n",
    "\n",
    " "
   ]
  },
  {
   "cell_type": "code",
   "execution_count": 41,
   "id": "6c4f7b80",
   "metadata": {},
   "outputs": [
    {
     "data": {
      "application/vnd.microsoft.datawrangler.viewer.v0+json": {
       "columns": [
        {
         "name": "index",
         "rawType": "int64",
         "type": "integer"
        },
        {
         "name": "Name",
         "rawType": "object",
         "type": "string"
        },
        {
         "name": "Year",
         "rawType": "float64",
         "type": "float"
        },
        {
         "name": "Group",
         "rawType": "float64",
         "type": "float"
        },
        {
         "name": "Status",
         "rawType": "object",
         "type": "string"
        },
        {
         "name": "Birth Date",
         "rawType": "object",
         "type": "string"
        },
        {
         "name": "Birth Place",
         "rawType": "object",
         "type": "string"
        },
        {
         "name": "Gender",
         "rawType": "object",
         "type": "string"
        },
        {
         "name": "Alma Mater",
         "rawType": "object",
         "type": "string"
        },
        {
         "name": "Undergraduate Major",
         "rawType": "object",
         "type": "string"
        },
        {
         "name": "Graduate Major",
         "rawType": "object",
         "type": "string"
        },
        {
         "name": "Military Rank",
         "rawType": "object",
         "type": "unknown"
        },
        {
         "name": "Military Branch",
         "rawType": "object",
         "type": "unknown"
        },
        {
         "name": "Space Flights",
         "rawType": "int64",
         "type": "integer"
        },
        {
         "name": "Space Flight (hr)",
         "rawType": "int64",
         "type": "integer"
        },
        {
         "name": "Space Walks",
         "rawType": "int64",
         "type": "integer"
        },
        {
         "name": "Space Walks (hr)",
         "rawType": "float64",
         "type": "float"
        },
        {
         "name": "Missions",
         "rawType": "object",
         "type": "string"
        },
        {
         "name": "Death Date",
         "rawType": "object",
         "type": "unknown"
        },
        {
         "name": "Death Mission",
         "rawType": "object",
         "type": "unknown"
        }
       ],
       "ref": "3c4f8017-53b1-4b52-b9d5-6b74de67ff4f",
       "rows": [
        [
         "0",
         "Joseph M. Acaba",
         "2004.0",
         "19.0",
         "Active",
         "5/17/1967",
         "Inglewood, CA",
         "Male",
         "University of California-Santa Barbara; University of Arizona",
         "Geology",
         "Geology",
         null,
         null,
         "2",
         "3307",
         "2",
         "13.0",
         "STS-119 (Discovery), ISS-31/32 (Soyuz)",
         null,
         null
        ],
        [
         "1",
         "Loren W. Acton",
         null,
         null,
         "Retired",
         "3/7/1936",
         "Lewiston, MT",
         "Male",
         "Montana State University; University of Colorado",
         "Engineering Physics",
         "Solar Physics",
         null,
         null,
         "1",
         "190",
         "0",
         "0.0",
         "STS 51-F (Challenger)",
         null,
         null
        ],
        [
         "2",
         "James C. Adamson",
         "1984.0",
         "10.0",
         "Retired",
         "3/3/1946",
         "Warsaw, NY",
         "Male",
         "US Military Academy; Princeton University",
         "Engineering",
         "Aerospace Engineering",
         "Colonel",
         "US Army (Retired)",
         "2",
         "334",
         "0",
         "0.0",
         "STS-28 (Columbia), STS-43 (Atlantis)",
         null,
         null
        ],
        [
         "3",
         "Thomas D. Akers",
         "1987.0",
         "12.0",
         "Retired",
         "5/20/1951",
         "St. Louis, MO",
         "Male",
         "University of Missouri-Rolla",
         "Applied Mathematics",
         "Applied Mathematics",
         "Colonel",
         "US Air Force (Retired)",
         "4",
         "814",
         "4",
         "29.0",
         "STS-41 (Discovery), STS-49 (Endeavor), STS-61 (Endeavor), STS-79 (Atlantis)",
         null,
         null
        ],
        [
         "4",
         "Buzz Aldrin",
         "1963.0",
         "3.0",
         "Retired",
         "1/20/1930",
         "Montclair, NJ",
         "Male",
         "US Military Academy; MIT",
         "Mechanical Engineering",
         "Astronautics",
         "Colonel",
         "US Air Force (Retired)",
         "2",
         "289",
         "2",
         "8.0",
         "Gemini 12, Apollo 11",
         null,
         null
        ]
       ],
       "shape": {
        "columns": 19,
        "rows": 5
       }
      },
      "text/html": [
       "<div>\n",
       "<style scoped>\n",
       "    .dataframe tbody tr th:only-of-type {\n",
       "        vertical-align: middle;\n",
       "    }\n",
       "\n",
       "    .dataframe tbody tr th {\n",
       "        vertical-align: top;\n",
       "    }\n",
       "\n",
       "    .dataframe thead th {\n",
       "        text-align: right;\n",
       "    }\n",
       "</style>\n",
       "<table border=\"1\" class=\"dataframe\">\n",
       "  <thead>\n",
       "    <tr style=\"text-align: right;\">\n",
       "      <th></th>\n",
       "      <th>Name</th>\n",
       "      <th>Year</th>\n",
       "      <th>Group</th>\n",
       "      <th>Status</th>\n",
       "      <th>Birth Date</th>\n",
       "      <th>Birth Place</th>\n",
       "      <th>Gender</th>\n",
       "      <th>Alma Mater</th>\n",
       "      <th>Undergraduate Major</th>\n",
       "      <th>Graduate Major</th>\n",
       "      <th>Military Rank</th>\n",
       "      <th>Military Branch</th>\n",
       "      <th>Space Flights</th>\n",
       "      <th>Space Flight (hr)</th>\n",
       "      <th>Space Walks</th>\n",
       "      <th>Space Walks (hr)</th>\n",
       "      <th>Missions</th>\n",
       "      <th>Death Date</th>\n",
       "      <th>Death Mission</th>\n",
       "    </tr>\n",
       "  </thead>\n",
       "  <tbody>\n",
       "    <tr>\n",
       "      <th>0</th>\n",
       "      <td>Joseph M. Acaba</td>\n",
       "      <td>2004.0</td>\n",
       "      <td>19.0</td>\n",
       "      <td>Active</td>\n",
       "      <td>5/17/1967</td>\n",
       "      <td>Inglewood, CA</td>\n",
       "      <td>Male</td>\n",
       "      <td>University of California-Santa Barbara; Univer...</td>\n",
       "      <td>Geology</td>\n",
       "      <td>Geology</td>\n",
       "      <td>NaN</td>\n",
       "      <td>NaN</td>\n",
       "      <td>2</td>\n",
       "      <td>3307</td>\n",
       "      <td>2</td>\n",
       "      <td>13.0</td>\n",
       "      <td>STS-119 (Discovery), ISS-31/32 (Soyuz)</td>\n",
       "      <td>NaN</td>\n",
       "      <td>NaN</td>\n",
       "    </tr>\n",
       "    <tr>\n",
       "      <th>1</th>\n",
       "      <td>Loren W. Acton</td>\n",
       "      <td>NaN</td>\n",
       "      <td>NaN</td>\n",
       "      <td>Retired</td>\n",
       "      <td>3/7/1936</td>\n",
       "      <td>Lewiston, MT</td>\n",
       "      <td>Male</td>\n",
       "      <td>Montana State University; University of Colorado</td>\n",
       "      <td>Engineering Physics</td>\n",
       "      <td>Solar Physics</td>\n",
       "      <td>NaN</td>\n",
       "      <td>NaN</td>\n",
       "      <td>1</td>\n",
       "      <td>190</td>\n",
       "      <td>0</td>\n",
       "      <td>0.0</td>\n",
       "      <td>STS 51-F (Challenger)</td>\n",
       "      <td>NaN</td>\n",
       "      <td>NaN</td>\n",
       "    </tr>\n",
       "    <tr>\n",
       "      <th>2</th>\n",
       "      <td>James C. Adamson</td>\n",
       "      <td>1984.0</td>\n",
       "      <td>10.0</td>\n",
       "      <td>Retired</td>\n",
       "      <td>3/3/1946</td>\n",
       "      <td>Warsaw, NY</td>\n",
       "      <td>Male</td>\n",
       "      <td>US Military Academy; Princeton University</td>\n",
       "      <td>Engineering</td>\n",
       "      <td>Aerospace Engineering</td>\n",
       "      <td>Colonel</td>\n",
       "      <td>US Army (Retired)</td>\n",
       "      <td>2</td>\n",
       "      <td>334</td>\n",
       "      <td>0</td>\n",
       "      <td>0.0</td>\n",
       "      <td>STS-28 (Columbia), STS-43 (Atlantis)</td>\n",
       "      <td>NaN</td>\n",
       "      <td>NaN</td>\n",
       "    </tr>\n",
       "    <tr>\n",
       "      <th>3</th>\n",
       "      <td>Thomas D. Akers</td>\n",
       "      <td>1987.0</td>\n",
       "      <td>12.0</td>\n",
       "      <td>Retired</td>\n",
       "      <td>5/20/1951</td>\n",
       "      <td>St. Louis, MO</td>\n",
       "      <td>Male</td>\n",
       "      <td>University of Missouri-Rolla</td>\n",
       "      <td>Applied Mathematics</td>\n",
       "      <td>Applied Mathematics</td>\n",
       "      <td>Colonel</td>\n",
       "      <td>US Air Force (Retired)</td>\n",
       "      <td>4</td>\n",
       "      <td>814</td>\n",
       "      <td>4</td>\n",
       "      <td>29.0</td>\n",
       "      <td>STS-41 (Discovery), STS-49 (Endeavor), STS-61 ...</td>\n",
       "      <td>NaN</td>\n",
       "      <td>NaN</td>\n",
       "    </tr>\n",
       "    <tr>\n",
       "      <th>4</th>\n",
       "      <td>Buzz Aldrin</td>\n",
       "      <td>1963.0</td>\n",
       "      <td>3.0</td>\n",
       "      <td>Retired</td>\n",
       "      <td>1/20/1930</td>\n",
       "      <td>Montclair, NJ</td>\n",
       "      <td>Male</td>\n",
       "      <td>US Military Academy; MIT</td>\n",
       "      <td>Mechanical Engineering</td>\n",
       "      <td>Astronautics</td>\n",
       "      <td>Colonel</td>\n",
       "      <td>US Air Force (Retired)</td>\n",
       "      <td>2</td>\n",
       "      <td>289</td>\n",
       "      <td>2</td>\n",
       "      <td>8.0</td>\n",
       "      <td>Gemini 12, Apollo 11</td>\n",
       "      <td>NaN</td>\n",
       "      <td>NaN</td>\n",
       "    </tr>\n",
       "  </tbody>\n",
       "</table>\n",
       "</div>"
      ],
      "text/plain": [
       "               Name    Year  Group   Status Birth Date    Birth Place Gender  \\\n",
       "0   Joseph M. Acaba  2004.0   19.0   Active  5/17/1967  Inglewood, CA   Male   \n",
       "1    Loren W. Acton     NaN    NaN  Retired   3/7/1936   Lewiston, MT   Male   \n",
       "2  James C. Adamson  1984.0   10.0  Retired   3/3/1946     Warsaw, NY   Male   \n",
       "3   Thomas D. Akers  1987.0   12.0  Retired  5/20/1951  St. Louis, MO   Male   \n",
       "4       Buzz Aldrin  1963.0    3.0  Retired  1/20/1930  Montclair, NJ   Male   \n",
       "\n",
       "                                          Alma Mater     Undergraduate Major  \\\n",
       "0  University of California-Santa Barbara; Univer...                 Geology   \n",
       "1   Montana State University; University of Colorado     Engineering Physics   \n",
       "2          US Military Academy; Princeton University             Engineering   \n",
       "3                       University of Missouri-Rolla     Applied Mathematics   \n",
       "4                           US Military Academy; MIT  Mechanical Engineering   \n",
       "\n",
       "          Graduate Major Military Rank         Military Branch  Space Flights  \\\n",
       "0                Geology           NaN                     NaN              2   \n",
       "1          Solar Physics           NaN                     NaN              1   \n",
       "2  Aerospace Engineering       Colonel       US Army (Retired)              2   \n",
       "3    Applied Mathematics       Colonel  US Air Force (Retired)              4   \n",
       "4           Astronautics       Colonel  US Air Force (Retired)              2   \n",
       "\n",
       "   Space Flight (hr)  Space Walks  Space Walks (hr)  \\\n",
       "0               3307            2              13.0   \n",
       "1                190            0               0.0   \n",
       "2                334            0               0.0   \n",
       "3                814            4              29.0   \n",
       "4                289            2               8.0   \n",
       "\n",
       "                                            Missions Death Date Death Mission  \n",
       "0             STS-119 (Discovery), ISS-31/32 (Soyuz)        NaN           NaN  \n",
       "1                              STS 51-F (Challenger)        NaN           NaN  \n",
       "2               STS-28 (Columbia), STS-43 (Atlantis)        NaN           NaN  \n",
       "3  STS-41 (Discovery), STS-49 (Endeavor), STS-61 ...        NaN           NaN  \n",
       "4                               Gemini 12, Apollo 11        NaN           NaN  "
      ]
     },
     "execution_count": 41,
     "metadata": {},
     "output_type": "execute_result"
    }
   ],
   "source": [
    "df_astronauts = pd.read_csv(\"astronauts.csv\")\n",
    "df_astronauts.head()"
   ]
  },
  {
   "cell_type": "markdown",
   "id": "2edab389",
   "metadata": {},
   "source": [
    "### Null and Unique Values"
   ]
  },
  {
   "cell_type": "code",
   "execution_count": 42,
   "id": "cc61b1df",
   "metadata": {},
   "outputs": [
    {
     "data": {
      "application/vnd.microsoft.datawrangler.viewer.v0+json": {
       "columns": [
        {
         "name": "index",
         "rawType": "object",
         "type": "string"
        },
        {
         "name": "0",
         "rawType": "int64",
         "type": "integer"
        }
       ],
       "ref": "ab2d94db-15c5-4dc7-85a2-27310612fc57",
       "rows": [
        [
         "Name",
         "357"
        ],
        [
         "Year",
         "20"
        ],
        [
         "Group",
         "20"
        ],
        [
         "Status",
         "4"
        ],
        [
         "Birth Date",
         "348"
        ],
        [
         "Birth Place",
         "272"
        ],
        [
         "Gender",
         "2"
        ],
        [
         "Alma Mater",
         "280"
        ],
        [
         "Undergraduate Major",
         "83"
        ],
        [
         "Graduate Major",
         "143"
        ],
        [
         "Military Rank",
         "12"
        ],
        [
         "Military Branch",
         "14"
        ],
        [
         "Space Flights",
         "8"
        ],
        [
         "Space Flight (hr)",
         "270"
        ],
        [
         "Space Walks",
         "11"
        ],
        [
         "Space Walks (hr)",
         "52"
        ],
        [
         "Missions",
         "305"
        ],
        [
         "Death Date",
         "38"
        ],
        [
         "Death Mission",
         "3"
        ]
       ],
       "shape": {
        "columns": 1,
        "rows": 19
       }
      },
      "text/plain": [
       "Name                   357\n",
       "Year                    20\n",
       "Group                   20\n",
       "Status                   4\n",
       "Birth Date             348\n",
       "Birth Place            272\n",
       "Gender                   2\n",
       "Alma Mater             280\n",
       "Undergraduate Major     83\n",
       "Graduate Major         143\n",
       "Military Rank           12\n",
       "Military Branch         14\n",
       "Space Flights            8\n",
       "Space Flight (hr)      270\n",
       "Space Walks             11\n",
       "Space Walks (hr)        52\n",
       "Missions               305\n",
       "Death Date              38\n",
       "Death Mission            3\n",
       "dtype: int64"
      ]
     },
     "execution_count": 42,
     "metadata": {},
     "output_type": "execute_result"
    }
   ],
   "source": [
    "dtypes = df_astronauts.dtypes\n",
    "Null_values = df_astronauts.isna().sum()    \n",
    "df_astronauts['Year'].value_counts()\n",
    "df_astronauts.nunique()"
   ]
  },
  {
   "cell_type": "markdown",
   "id": "2f112d69",
   "metadata": {},
   "source": [
    "### Missing Values Analysis"
   ]
  },
  {
   "cell_type": "code",
   "execution_count": 43,
   "id": "a4804b56",
   "metadata": {},
   "outputs": [
    {
     "data": {
      "text/plain": [
       "Text(0.5, 1.0, 'Total Missing Values')"
      ]
     },
     "execution_count": 43,
     "metadata": {},
     "output_type": "execute_result"
    },
    {
     "data": {
      "image/png": "[encoded data removed]",
      "text/plain": [
       "<Figure size 640x480 with 1 Axes>"
      ]
     },
     "metadata": {},
     "output_type": "display_data"
    }
   ],
   "source": [
    "missingValues = df_astronauts.isna().sum().sort_values(ascending=False) \n",
    "unique_values = df_astronauts.nunique().sort_values(ascending=False)\n",
    "summary = pd.DataFrame({\n",
    "    'Missing Values': missingValues,\n",
    "    'Unique Values': unique_values\n",
    "})\n",
    "summary.plot(kind='bar')\n",
    "plt.xlabel(\"Columns\", fontsize = 15)\n",
    "plt.ylabel(\"Count\", fontsize =  15)\n",
    "plt.title(\"Total Missing Values\", fontsize = 15)\n",
    "\n",
    "\n"
   ]
  },
  {
   "cell_type": "markdown",
   "id": "574b6a9c",
   "metadata": {},
   "source": [
    "### Mean, Median, Mode \n",
    "Using df_numerics : Mean and Median calculated for numerical columns.\n"
   ]
  },
  {
   "cell_type": "code",
   "execution_count": 44,
   "id": "962dade5",
   "metadata": {},
   "outputs": [
    {
     "name": "stdout",
     "output_type": "stream",
     "text": [
      "Mean \n",
      " Year                 1985.106061\n",
      "Group                  11.409091\n",
      "Space Flights           2.364146\n",
      "Space Flight (hr)    1249.266106\n",
      "Space Walks             1.246499\n",
      "Space Walks (hr)        7.707283\n",
      "dtype: float64\n",
      "\n",
      "Median \n",
      " Year                 1987.0\n",
      "Group                  12.0\n",
      "Space Flights           2.0\n",
      "Space Flight (hr)     590.0\n",
      "Space Walks             0.0\n",
      "Space Walks (hr)        0.0\n",
      "dtype: float64\n",
      "\n",
      "Mode \n",
      " Name                       Alan B. Shepard Jr. \n",
      "Year                                     1978.0\n",
      "Group                                       8.0\n",
      "Status                                  Retired\n",
      "Birth Date                           10/27/1946\n",
      "Birth Place                       Cleveland, OH\n",
      "Gender                                     Male\n",
      "Alma Mater                     US Naval Academy\n",
      "Undergraduate Major                     Physics\n",
      "Graduate Major         Aeronautical Engineering\n",
      "Military Rank                           Colonel\n",
      "Military Branch          US Air Force (Retired)\n",
      "Space Flights                               2.0\n",
      "Space Flight (hr)                           0.0\n",
      "Space Walks                                 0.0\n",
      "Space Walks (hr)                            0.0\n",
      "Missions                  STS 51-F (Challenger)\n",
      "Death Date                            1/28/1986\n",
      "Death Mission             STS 51-L (Challenger)\n",
      "Name: 0, dtype: object\n"
     ]
    }
   ],
   "source": [
    "df_numerics = df_astronauts.select_dtypes(include = [\"number\"])\n",
    "\n",
    "mean_values = df_numerics.mean()\n",
    "median = df_numerics.median()\n",
    "mode = df_astronauts.mode()\n",
    "\n",
    "print(\"Mean \\n\",mean_values) \n",
    "print(\"\\nMedian \\n\",median)\n",
    "print(\"\\nMode \\n\", mode.iloc[0])"
   ]
  },
  {
   "cell_type": "markdown",
   "id": "23329d4e",
   "metadata": {},
   "source": [
    "# Visualizations"
   ]
  },
  {
   "cell_type": "markdown",
   "id": "4d86388c",
   "metadata": {},
   "source": [
    "## Trend Analysis"
   ]
  },
  {
   "cell_type": "code",
   "execution_count": 45,
   "id": "6718b787",
   "metadata": {},
   "outputs": [
    {
     "data": {
      "image/png": "[encoded data removed]",
      "text/plain": [
       "<Figure size 640x480 with 1 Axes>"
      ]
     },
     "metadata": {},
     "output_type": "display_data"
    }
   ],
   "source": [
    "yearly_counts = df_astronauts.groupby('Year').size().reset_index(name='count' )\n",
    "\n",
    "sns.lineplot(x = 'Year',y = 'count',data = yearly_counts,color = 'orange' )\n",
    "plt.xlabel('Years', fontsize=12)\n",
    "plt.title('Astronaut Distribution Across the Years')\n",
    "plt.grid(axis='y', linestyle='--', alpha=0.5)\n",
    "plt.show()"
   ]
  },
  {
   "cell_type": "markdown",
   "id": "f894c7c0",
   "metadata": {},
   "source": [
    "### Number of Astronauts by Gender Over Time"
   ]
  },
  {
   "cell_type": "code",
   "execution_count": 46,
   "id": "d8e348c4",
   "metadata": {},
   "outputs": [
    {
     "data": {
      "image/png": "[encoded data removed]",
      "text/plain": [
       "<Figure size 800x600 with 1 Axes>"
      ]
     },
     "metadata": {},
     "output_type": "display_data"
    }
   ],
   "source": [
    "gender_trend = df_astronauts.groupby(['Year', 'Gender']).size().reset_index(name='Count')\n",
    "plt.figure(figsize=(8, 6))\n",
    "sns.lineplot(data=gender_trend, x='Year', y='Count', hue='Gender', marker='o')\n",
    "\n",
    "plt.title('Number of Astronauts by Gender Over Time')\n",
    "plt.xlabel('Year')\n",
    "plt.ylabel('Number of Astronauts')\n",
    "plt.legend(title='Gender')\n",
    "plt.grid(True) \n",
    "plt.show()"
   ]
  },
  {
   "cell_type": "markdown",
   "id": "20d64b21",
   "metadata": {},
   "source": [
    "## Pair Relationship"
   ]
  },
  {
   "cell_type": "code",
   "execution_count": 47,
   "id": "8417e2b2",
   "metadata": {},
   "outputs": [
    {
     "data": {
      "image/png": "[encoded data removed]",
      "text/plain": [
       "<Figure size 640x480 with 1 Axes>"
      ]
     },
     "metadata": {},
     "output_type": "display_data"
    },
    {
     "data": {
      "image/png": "[encoded data removed]",
      "text/plain": [
       "<Figure size 640x480 with 1 Axes>"
      ]
     },
     "metadata": {},
     "output_type": "display_data"
    }
   ],
   "source": [
    "\n",
    "plt.scatter(x = df_astronauts['Space Walks'] ,y = df_astronauts['Space Walks (hr)'] )\n",
    "plt.title('Space Walks Count Vs Total Space walk Hrs ')\n",
    "plt.xlabel('Space Walks Count')\n",
    "plt.ylabel('Total Walks  Hrs')\n",
    "plt.show()\n",
    "\n",
    "plt.scatter(x = df_astronauts['Space Flights'] ,y = df_astronauts['Space Flight (hr)'] )\n",
    "plt.title('Space Flight Count Vs Total Flight Hrs')\n",
    "plt.xlabel('Space Flight Count')\n",
    "plt.ylabel('Total Flight Hrs')\n",
    "plt.show()\n"
   ]
  },
  {
   "cell_type": "code",
   "execution_count": 48,
   "id": "cca87d3f",
   "metadata": {},
   "outputs": [
    {
     "data": {
      "application/vnd.microsoft.datawrangler.viewer.v0+json": {
       "columns": [
        {
         "name": "index",
         "rawType": "int64",
         "type": "integer"
        },
        {
         "name": "Birth Date",
         "rawType": "object",
         "type": "string"
        }
       ],
       "ref": "8a917e35-f0bf-4cda-a1e4-974d5610447d",
       "rows": [
        [
         "0",
         "5/17/1967"
        ],
        [
         "1",
         "3/7/1936"
        ],
        [
         "2",
         "3/3/1946"
        ],
        [
         "3",
         "5/20/1951"
        ],
        [
         "4",
         "1/20/1930"
        ],
        [
         "5",
         "8/4/1955"
        ],
        [
         "6",
         "6/27/1937"
        ],
        [
         "7",
         "8/15/1959"
        ],
        [
         "8",
         "10/17/1933"
        ],
        [
         "9",
         "2/23/1959"
        ],
        [
         "10",
         "12/25/1959"
        ],
        [
         "11",
         "8/23/1967"
        ],
        [
         "12",
         "4/18/1949"
        ],
        [
         "13",
         "8/25/1960"
        ],
        [
         "14",
         "8/5/1930"
        ],
        [
         "15",
         "11/26/1963"
        ],
        [
         "16",
         "6/1/1954"
        ],
        [
         "17",
         "4/9/1976"
        ],
        [
         "18",
         "2/22/1952"
        ],
        [
         "19",
         "4/27/1953"
        ],
        [
         "20",
         "10/27/1953"
        ],
        [
         "21",
         "4/16/1959"
        ],
        [
         "22",
         "12/30/1953"
        ],
        [
         "23",
         "11/17/1944"
        ],
        [
         "24",
         "12/30/1931"
        ],
        [
         "25",
         "3/15/1932"
        ],
        [
         "26",
         "7/28/1970"
        ],
        [
         "27",
         "8/26/1942"
        ],
        [
         "28",
         "3/16/1959"
        ],
        [
         "29",
         "11/22/1942"
        ],
        [
         "30",
         "12/23/1937"
        ],
        [
         "31",
         "10/1/1964"
        ],
        [
         "32",
         "8/19/1946"
        ],
        [
         "33",
         "3/14/1928"
        ],
        [
         "34",
         "2/13/1964"
        ],
        [
         "35",
         "11/14/1956"
        ],
        [
         "36",
         "8/12/1951"
        ],
        [
         "37",
         "5/9/1931"
        ],
        [
         "38",
         "1/17/1943"
        ],
        [
         "39",
         "9/11/1967"
        ],
        [
         "40",
         "7/19/1943"
        ],
        [
         "41",
         "3/11/1956"
        ],
        [
         "42",
         "4/16/1956"
        ],
        [
         "43",
         "11/18/1951"
        ],
        [
         "44",
         "6/20/1945"
        ],
        [
         "45",
         "6/6/1956"
        ],
        [
         "46",
         "9/25/1934"
        ],
        [
         "47",
         "7/27/1961"
        ],
        [
         "48",
         "7/25/1957"
        ],
        [
         "49",
         "1/23/1949"
        ]
       ],
       "shape": {
        "columns": 1,
        "rows": 357
       }
      },
      "text/plain": [
       "0      5/17/1967\n",
       "1       3/7/1936\n",
       "2       3/3/1946\n",
       "3      5/20/1951\n",
       "4      1/20/1930\n",
       "         ...    \n",
       "352    8/23/1956\n",
       "353    7/26/1962\n",
       "354     2/7/1932\n",
       "355    9/24/1930\n",
       "356    6/29/1962\n",
       "Name: Birth Date, Length: 357, dtype: object"
      ]
     },
     "execution_count": 48,
     "metadata": {},
     "output_type": "execute_result"
    }
   ],
   "source": [
    "df_astronauts['Birth Date']"
   ]
  },
  {
   "cell_type": "markdown",
   "id": "57a097ec",
   "metadata": {},
   "source": [
    "### Inspecting Expected life of Astronauts"
   ]
  },
  {
   "cell_type": "code",
   "execution_count": 49,
   "id": "c1c55feb",
   "metadata": {},
   "outputs": [
    {
     "data": {
      "image/png": "[encoded data removed]",
      "text/plain": [
       "<Figure size 600x500 with 1 Axes>"
      ]
     },
     "metadata": {},
     "output_type": "display_data"
    }
   ],
   "source": [
    "dates = df_astronauts.loc[df_astronauts['Death Date'].notna()].loc[:,['Birth Date', 'Death Date']]\n",
    "age  =  (pd.to_datetime(dates['Death Date'],format = \"mixed\") - pd.to_datetime(dates['Birth Date'],format = \"mixed\")).dt.days // 365\n",
    "plt.figure(figsize=(6, 5))\n",
    "plt.hist(age, bins=10, color='skyblue', edgecolor='black')\n",
    "plt.xlabel(\"Age at Death  (Years)\")\n",
    "plt.ylabel(\"Number of Astronauts\")\n",
    "plt.title(\"Distribution of Age at Death\")\n",
    "plt.grid(True) \n",
    "plt.show()"
   ]
  },
  {
   "cell_type": "code",
   "execution_count": 50,
   "id": "d9f053f0",
   "metadata": {},
   "outputs": [
    {
     "data": {
      "image/png": "[encoded data removed]",
      "text/plain": [
       "<Figure size 640x480 with 1 Axes>"
      ]
     },
     "metadata": {},
     "output_type": "display_data"
    }
   ],
   "source": [
    "\n",
    "fig, ax = plt.subplots()\n",
    "sns.boxplot(x='Gender', y='Space Flights', data=df_astronauts,ax = ax)\n",
    "plt.show()"
   ]
  },
  {
   "cell_type": "code",
   "execution_count": 51,
   "id": "36ef089b",
   "metadata": {},
   "outputs": [
    {
     "data": {
      "image/png": "[encoded data removed]",
      "text/plain": [
       "<Figure size 640x480 with 1 Axes>"
      ]
     },
     "metadata": {},
     "output_type": "display_data"
    }
   ],
   "source": [
    "status_palette = {\n",
    "    'Active': \"#da77e7\",      # muted blue\n",
    "    'Retired': \"#79a9ca\",     # muted orange\n",
    "    'Deceased': \"#D8D853\",    # professional green\n",
    "    'Management': \"#d66921\"   # muted purple\n",
    "}\n",
    "\n",
    "sns.countplot(x='Gender', hue='Status', data=df_astronauts,palette= status_palette) \n",
    "plt.show()\n"
   ]
  },
  {
   "cell_type": "code",
   "execution_count": 52,
   "id": "766c745a",
   "metadata": {},
   "outputs": [
    {
     "data": {
      "image/png": "[encoded data removed]",
      "text/plain": [
       "<Figure size 640x480 with 1 Axes>"
      ]
     },
     "metadata": {},
     "output_type": "display_data"
    }
   ],
   "source": [
    "have_military_rank = df_astronauts['Military Rank'].notna().sum()\n",
    "not_in_military = df_astronauts['Military Rank'].isna().sum()\n",
    "LABELS = ['Server', 'Not Served']\n",
    "counts = [have_military_rank,not_in_military]\n",
    "colors =   [\"#2F5E62\", \"#8C6614\"]\n",
    "plt.pie(counts, labels=LABELS, colors=colors, autopct='%1.1f%%', startangle=90)\n",
    "plt.title('Military Service Distribution') \n",
    "plt.show()"
   ]
  },
  {
   "cell_type": "markdown",
   "id": "0c048aee",
   "metadata": {},
   "source": [
    "# Correlation Analysis"
   ]
  },
  {
   "cell_type": "code",
   "execution_count": 53,
   "id": "7d294e7e",
   "metadata": {},
   "outputs": [
    {
     "data": {
      "image/png": "[encoded data removed]",
      "text/plain": [
       "<Figure size 1000x600 with 2 Axes>"
      ]
     },
     "metadata": {},
     "output_type": "display_data"
    }
   ],
   "source": [
    " \n",
    "df_astronauts['gender_encode'] = df_astronauts['Gender'].map({'Male': 1, 'Female': 0})\n",
    "corr = df_astronauts.corr(numeric_only=True)  # Use numeric columns only\n",
    "\n",
    "# Plot heatmap\n",
    "plt.figure(figsize=(10, 6))\n",
    "sns.heatmap(corr, annot=True, fmt=\".2f\", cmap='coolwarm', center=0, square=True)\n",
    "plt.title(\"Correlation Heatmap\")\n",
    "plt.show()"
   ]
  },
  {
   "cell_type": "code",
   "execution_count": 54,
   "id": "038c4bb6",
   "metadata": {},
   "outputs": [
    {
     "data": {
      "application/vnd.microsoft.datawrangler.viewer.v0+json": {
       "columns": [
        {
         "name": "index",
         "rawType": "object",
         "type": "string"
        },
        {
         "name": "Year",
         "rawType": "float64",
         "type": "float"
        },
        {
         "name": "Group",
         "rawType": "float64",
         "type": "float"
        },
        {
         "name": "Space Flights",
         "rawType": "float64",
         "type": "float"
        },
        {
         "name": "Space Flight (hr)",
         "rawType": "float64",
         "type": "float"
        },
        {
         "name": "Space Walks",
         "rawType": "float64",
         "type": "float"
        },
        {
         "name": "Space Walks (hr)",
         "rawType": "float64",
         "type": "float"
        },
        {
         "name": "gender_encode",
         "rawType": "float64",
         "type": "float"
        }
       ],
       "ref": "0a7dafc7-4219-413d-8ab0-ecee163ab87e",
       "rows": [
        [
         "Year",
         "1.0",
         "0.9809343583955185",
         "0.036420081801116666",
         "0.3313856557238504",
         "0.210072717008594",
         "0.2535022843827291",
         "-0.21814031709988052"
        ],
        [
         "Group",
         "0.9809343583955185",
         "1.0",
         "-0.011385557624602388",
         "0.3256831783527329",
         "0.21789056559445044",
         "0.2613838590964117",
         "-0.2078754779510588"
        ],
        [
         "Space Flights",
         "0.036420081801116666",
         "-0.011385557624602388",
         "1.0",
         "0.32523317929664336",
         "0.2570733529595583",
         "0.2586419794951325",
         "-0.01014204961251142"
        ],
        [
         "Space Flight (hr)",
         "0.3313856557238504",
         "0.3256831783527329",
         "0.32523317929664336",
         "1.0",
         "0.47279601264749493",
         "0.4544079500258223",
         "-0.06989261547740733"
        ],
        [
         "Space Walks",
         "0.210072717008594",
         "0.21789056559445044",
         "0.2570733529595583",
         "0.47279601264749493",
         "1.0",
         "0.9857550418026985",
         "0.1270166346496839"
        ],
        [
         "Space Walks (hr)",
         "0.2535022843827291",
         "0.2613838590964117",
         "0.2586419794951325",
         "0.4544079500258223",
         "0.9857550418026985",
         "1.0",
         "0.09877478848860857"
        ],
        [
         "gender_encode",
         "-0.21814031709988052",
         "-0.2078754779510588",
         "-0.01014204961251142",
         "-0.06989261547740733",
         "0.1270166346496839",
         "0.09877478848860857",
         "1.0"
        ]
       ],
       "shape": {
        "columns": 7,
        "rows": 7
       }
      },
      "text/html": [
       "<div>\n",
       "<style scoped>\n",
       "    .dataframe tbody tr th:only-of-type {\n",
       "        vertical-align: middle;\n",
       "    }\n",
       "\n",
       "    .dataframe tbody tr th {\n",
       "        vertical-align: top;\n",
       "    }\n",
       "\n",
       "    .dataframe thead th {\n",
       "        text-align: right;\n",
       "    }\n",
       "</style>\n",
       "<table border=\"1\" class=\"dataframe\">\n",
       "  <thead>\n",
       "    <tr style=\"text-align: right;\">\n",
       "      <th></th>\n",
       "      <th>Year</th>\n",
       "      <th>Group</th>\n",
       "      <th>Space Flights</th>\n",
       "      <th>Space Flight (hr)</th>\n",
       "      <th>Space Walks</th>\n",
       "      <th>Space Walks (hr)</th>\n",
       "      <th>gender_encode</th>\n",
       "    </tr>\n",
       "  </thead>\n",
       "  <tbody>\n",
       "    <tr>\n",
       "      <th>Year</th>\n",
       "      <td>1.000000</td>\n",
       "      <td>0.980934</td>\n",
       "      <td>0.036420</td>\n",
       "      <td>0.331386</td>\n",
       "      <td>0.210073</td>\n",
       "      <td>0.253502</td>\n",
       "      <td>-0.218140</td>\n",
       "    </tr>\n",
       "    <tr>\n",
       "      <th>Group</th>\n",
       "      <td>0.980934</td>\n",
       "      <td>1.000000</td>\n",
       "      <td>-0.011386</td>\n",
       "      <td>0.325683</td>\n",
       "      <td>0.217891</td>\n",
       "      <td>0.261384</td>\n",
       "      <td>-0.207875</td>\n",
       "    </tr>\n",
       "    <tr>\n",
       "      <th>Space Flights</th>\n",
       "      <td>0.036420</td>\n",
       "      <td>-0.011386</td>\n",
       "      <td>1.000000</td>\n",
       "      <td>0.325233</td>\n",
       "      <td>0.257073</td>\n",
       "      <td>0.258642</td>\n",
       "      <td>-0.010142</td>\n",
       "    </tr>\n",
       "    <tr>\n",
       "      <th>Space Flight (hr)</th>\n",
       "      <td>0.331386</td>\n",
       "      <td>0.325683</td>\n",
       "      <td>0.325233</td>\n",
       "      <td>1.000000</td>\n",
       "      <td>0.472796</td>\n",
       "      <td>0.454408</td>\n",
       "      <td>-0.069893</td>\n",
       "    </tr>\n",
       "    <tr>\n",
       "      <th>Space Walks</th>\n",
       "      <td>0.210073</td>\n",
       "      <td>0.217891</td>\n",
       "      <td>0.257073</td>\n",
       "      <td>0.472796</td>\n",
       "      <td>1.000000</td>\n",
       "      <td>0.985755</td>\n",
       "      <td>0.127017</td>\n",
       "    </tr>\n",
       "    <tr>\n",
       "      <th>Space Walks (hr)</th>\n",
       "      <td>0.253502</td>\n",
       "      <td>0.261384</td>\n",
       "      <td>0.258642</td>\n",
       "      <td>0.454408</td>\n",
       "      <td>0.985755</td>\n",
       "      <td>1.000000</td>\n",
       "      <td>0.098775</td>\n",
       "    </tr>\n",
       "    <tr>\n",
       "      <th>gender_encode</th>\n",
       "      <td>-0.218140</td>\n",
       "      <td>-0.207875</td>\n",
       "      <td>-0.010142</td>\n",
       "      <td>-0.069893</td>\n",
       "      <td>0.127017</td>\n",
       "      <td>0.098775</td>\n",
       "      <td>1.000000</td>\n",
       "    </tr>\n",
       "  </tbody>\n",
       "</table>\n",
       "</div>"
      ],
      "text/plain": [
       "                       Year     Group  Space Flights  Space Flight (hr)  \\\n",
       "Year               1.000000  0.980934       0.036420           0.331386   \n",
       "Group              0.980934  1.000000      -0.011386           0.325683   \n",
       "Space Flights      0.036420 -0.011386       1.000000           0.325233   \n",
       "Space Flight (hr)  0.331386  0.325683       0.325233           1.000000   \n",
       "Space Walks        0.210073  0.217891       0.257073           0.472796   \n",
       "Space Walks (hr)   0.253502  0.261384       0.258642           0.454408   \n",
       "gender_encode     -0.218140 -0.207875      -0.010142          -0.069893   \n",
       "\n",
       "                   Space Walks  Space Walks (hr)  gender_encode  \n",
       "Year                  0.210073          0.253502      -0.218140  \n",
       "Group                 0.217891          0.261384      -0.207875  \n",
       "Space Flights         0.257073          0.258642      -0.010142  \n",
       "Space Flight (hr)     0.472796          0.454408      -0.069893  \n",
       "Space Walks           1.000000          0.985755       0.127017  \n",
       "Space Walks (hr)      0.985755          1.000000       0.098775  \n",
       "gender_encode         0.127017          0.098775       1.000000  "
      ]
     },
     "execution_count": 54,
     "metadata": {},
     "output_type": "execute_result"
    }
   ],
   "source": [
    "df_numerics = df_astronauts.select_dtypes(include = ['float64', 'int64'])\n",
    "corr = df_numerics.corr() \n",
    "corr\n",
    " \n"
   ]
  },
  {
   "cell_type": "markdown",
   "id": "3a4edd52",
   "metadata": {},
   "source": [
    "## Grouped Data"
   ]
  },
  {
   "cell_type": "code",
   "execution_count": 70,
   "id": "82f72792",
   "metadata": {},
   "outputs": [
    {
     "data": {
      "image/png": "[encoded data removed]",
      "text/plain": [
       "<Figure size 500x500 with 1 Axes>"
      ]
     },
     "metadata": {},
     "output_type": "display_data"
    }
   ],
   "source": [
    "field_of_study = df_astronauts.groupby('Undergraduate Major').size().reset_index(name='Count')\n",
    "top_fields = field_of_study.sort_values(by=['Count'])[-10:]\n",
    "plt.figure(figsize=(5,5))\n",
    "plt.barh(top_fields['Undergraduate Major'], top_fields['Count'], color=\"#5F5353\" )\n",
    "plt.ylabel('Undergraduate Major', fontsize=15)\n",
    "plt.xlabel('Count', fontsize=12)\n",
    "plt.title(' Top Undergraduate Majors by Count of Astronauts\\n', fontsize=18)\n",
    " \n",
    "plt.show()"
   ]
  },
  {
   "cell_type": "code",
   "execution_count": 56,
   "id": "063feb7b",
   "metadata": {},
   "outputs": [
    {
     "data": {
      "application/vnd.microsoft.datawrangler.viewer.v0+json": {
       "columns": [
        {
         "name": "index",
         "rawType": "int64",
         "type": "integer"
        },
        {
         "name": "Alma Mater",
         "rawType": "object",
         "type": "string"
        },
        {
         "name": "Count",
         "rawType": "int64",
         "type": "integer"
        }
       ],
       "ref": "33111fd3-510c-43e3-aad1-aab0f8852a17",
       "rows": [
        [
         "166",
         "US Naval Academy",
         "12"
        ],
        [
         "177",
         "US Naval Academy; US Naval Postgraduate School",
         "11"
        ],
        [
         "86",
         "Purdue University",
         "7"
        ],
        [
         "139",
         "US Air Force Academy; Purdue University",
         "7"
        ],
        [
         "174",
         "US Naval Academy; MIT",
         "5"
        ],
        [
         "61",
         "MIT",
         "5"
        ],
        [
         "157",
         "US Military Academy; Georgia Institute of Technology",
         "4"
        ],
        [
         "105",
         "Stanford University",
         "4"
        ],
        [
         "208",
         "University of Colorado",
         "4"
        ],
        [
         "125",
         "US Air Force Academy",
         "3"
        ],
        [
         "251",
         "University of Texas",
         "3"
        ],
        [
         "52",
         "Harvey Mudd College; University of Washington",
         "2"
        ],
        [
         "131",
         "US Air Force Academy; Embry-Riddle Aeronautical University",
         "2"
        ],
        [
         "262",
         "University of Washington",
         "2"
        ],
        [
         "148",
         "US Air Force Academy; University of Southern California",
         "2"
        ],
        [
         "155",
         "US Military Academy",
         "2"
        ],
        [
         "47",
         "Georgia Institute of Technology",
         "2"
        ],
        [
         "159",
         "US Military Academy; MIT",
         "2"
        ],
        [
         "161",
         "US Military Academy; US Air Force Institute of Technology",
         "2"
        ],
        [
         "164",
         "US Military Academy; University of Michigan",
         "2"
        ],
        [
         "136",
         "US Air Force Academy; MIT",
         "2"
        ],
        [
         "169",
         "US Naval Academy; Florida Institute of Technology",
         "2"
        ],
        [
         "171",
         "US Naval Academy; George Washington University",
         "2"
        ],
        [
         "133",
         "US Air Force Academy; Georgia Institute of Technology",
         "2"
        ],
        [
         "181",
         "US Naval Academy; University of Michigan",
         "2"
        ],
        [
         "182",
         "US Naval Academy; University of Southern California",
         "2"
        ],
        [
         "202",
         "University of California-Los Angeles",
         "2"
        ],
        [
         "3",
         "Auburn University",
         "2"
        ],
        [
         "218",
         "University of Illinois",
         "2"
        ],
        [
         "238",
         "University of Notre Dame",
         "2"
        ],
        [
         "240",
         "University of Oklahoma",
         "2"
        ],
        [
         "266",
         "University of Wisconsin",
         "2"
        ],
        [
         "9",
         "California Institute of Technology",
         "2"
        ],
        [
         "261",
         "University of Virginia; University of Michigan",
         "1"
        ],
        [
         "7",
         "Baldwin Wallace College; US Naval Postgraduate School",
         "1"
        ],
        [
         "24",
         "Colorado State University; US Naval Postgraduate School",
         "1"
        ],
        [
         "25",
         "Colorado State University; Utah State University",
         "1"
        ],
        [
         "26",
         "Columbia University; MIT",
         "1"
        ],
        [
         "27",
         "Cornell University",
         "1"
        ],
        [
         "28",
         "Cornell University; Colorado State University",
         "1"
        ],
        [
         "29",
         "Cornell University; Princeton University; University of Miami",
         "1"
        ],
        [
         "30",
         "Cornell University; Stanford University",
         "1"
        ],
        [
         "31",
         "Cornell University; US Naval Postgraduate School",
         "1"
        ],
        [
         "32",
         "Dartmouth College; Rice University",
         "1"
        ],
        [
         "33",
         "Davidson College; University of Virginia; Wake Forest University; University of Texas Medical Branch-Galveston",
         "1"
        ],
        [
         "34",
         "DePauw University; Yale University",
         "1"
        ],
        [
         "36",
         "Drexel University; Thomas Jefferson University",
         "1"
        ],
        [
         "37",
         "Drexel University; US Naval Postgraduate School",
         "1"
        ],
        [
         "38",
         "Drexel University; University of Maryland",
         "1"
        ],
        [
         "39",
         "Embry-Riddle Aeronautical University; University of Central Florida",
         "1"
        ]
       ],
       "shape": {
        "columns": 2,
        "rows": 280
       }
      },
      "text/html": [
       "<div>\n",
       "<style scoped>\n",
       "    .dataframe tbody tr th:only-of-type {\n",
       "        vertical-align: middle;\n",
       "    }\n",
       "\n",
       "    .dataframe tbody tr th {\n",
       "        vertical-align: top;\n",
       "    }\n",
       "\n",
       "    .dataframe thead th {\n",
       "        text-align: right;\n",
       "    }\n",
       "</style>\n",
       "<table border=\"1\" class=\"dataframe\">\n",
       "  <thead>\n",
       "    <tr style=\"text-align: right;\">\n",
       "      <th></th>\n",
       "      <th>Alma Mater</th>\n",
       "      <th>Count</th>\n",
       "    </tr>\n",
       "  </thead>\n",
       "  <tbody>\n",
       "    <tr>\n",
       "      <th>166</th>\n",
       "      <td>US Naval Academy</td>\n",
       "      <td>12</td>\n",
       "    </tr>\n",
       "    <tr>\n",
       "      <th>177</th>\n",
       "      <td>US Naval Academy; US Naval Postgraduate School</td>\n",
       "      <td>11</td>\n",
       "    </tr>\n",
       "    <tr>\n",
       "      <th>86</th>\n",
       "      <td>Purdue University</td>\n",
       "      <td>7</td>\n",
       "    </tr>\n",
       "    <tr>\n",
       "      <th>139</th>\n",
       "      <td>US Air Force Academy; Purdue University</td>\n",
       "      <td>7</td>\n",
       "    </tr>\n",
       "    <tr>\n",
       "      <th>174</th>\n",
       "      <td>US Naval Academy; MIT</td>\n",
       "      <td>5</td>\n",
       "    </tr>\n",
       "    <tr>\n",
       "      <th>...</th>\n",
       "      <td>...</td>\n",
       "      <td>...</td>\n",
       "    </tr>\n",
       "    <tr>\n",
       "      <th>19</th>\n",
       "      <td>Carnegie-Mellon University; University of Mary...</td>\n",
       "      <td>1</td>\n",
       "    </tr>\n",
       "    <tr>\n",
       "      <th>20</th>\n",
       "      <td>Case Western Reserve University; Cornell Unive...</td>\n",
       "      <td>1</td>\n",
       "    </tr>\n",
       "    <tr>\n",
       "      <th>21</th>\n",
       "      <td>City College of New York; Rutgers University</td>\n",
       "      <td>1</td>\n",
       "    </tr>\n",
       "    <tr>\n",
       "      <th>22</th>\n",
       "      <td>College of William &amp; Mary; Eastern Virginia Me...</td>\n",
       "      <td>1</td>\n",
       "    </tr>\n",
       "    <tr>\n",
       "      <th>263</th>\n",
       "      <td>University of Washington; Creighton University</td>\n",
       "      <td>1</td>\n",
       "    </tr>\n",
       "  </tbody>\n",
       "</table>\n",
       "<p>280 rows × 2 columns</p>\n",
       "</div>"
      ],
      "text/plain": [
       "                                            Alma Mater  Count\n",
       "166                                   US Naval Academy     12\n",
       "177     US Naval Academy; US Naval Postgraduate School     11\n",
       "86                                   Purdue University      7\n",
       "139            US Air Force Academy; Purdue University      7\n",
       "174                              US Naval Academy; MIT      5\n",
       "..                                                 ...    ...\n",
       "19   Carnegie-Mellon University; University of Mary...      1\n",
       "20   Case Western Reserve University; Cornell Unive...      1\n",
       "21        City College of New York; Rutgers University      1\n",
       "22   College of William & Mary; Eastern Virginia Me...      1\n",
       "263     University of Washington; Creighton University      1\n",
       "\n",
       "[280 rows x 2 columns]"
      ]
     },
     "execution_count": 56,
     "metadata": {},
     "output_type": "execute_result"
    }
   ],
   "source": [
    "df_astronauts.groupby('Alma Mater').size().reset_index(name= \"Count\").sort_values(by = [\"Count\"], ascending= [False])"
   ]
  },
  {
   "cell_type": "code",
   "execution_count": 57,
   "id": "24daa7d5",
   "metadata": {},
   "outputs": [
    {
     "data": {
      "application/vnd.microsoft.datawrangler.viewer.v0+json": {
       "columns": [
        {
         "name": "index",
         "rawType": "int64",
         "type": "integer"
        },
        {
         "name": "Missions",
         "rawType": "object",
         "type": "string"
        },
        {
         "name": "Count",
         "rawType": "int64",
         "type": "integer"
        }
       ],
       "ref": "d580d990-90fa-449c-91e0-58b17bd7522e",
       "rows": [
        [
         "74",
         "STS 51-F (Challenger)",
         "5"
        ],
        [
         "64",
         "STS 51-B (Challenger)",
         "3"
        ],
        [
         "100",
         "STS-107 (Columbia)",
         "3"
        ],
        [
         "276",
         "STS-83 (Columbia), STS-94 (Columbia)",
         "3"
        ],
        [
         "82",
         "STS 51-L (Challenger)",
         "3"
        ],
        [
         "304",
         "Skylab 4",
         "3"
        ],
        [
         "88",
         "STS 61-C (Columbia)",
         "2"
        ],
        [
         "59",
         "STS 41-G (Challenger)",
         "2"
        ],
        [
         "145",
         "STS-125 (Atlantis)",
         "2"
        ],
        [
         "116",
         "STS-116 (Discovery)",
         "2"
        ],
        [
         "70",
         "STS 51-D (Discovery)",
         "2"
        ],
        [
         "158",
         "STS-129 (Atlantis)",
         "2"
        ],
        [
         "161",
         "STS-131 (Discovery)",
         "2"
        ],
        [
         "179",
         "STS-35 (Columbia), STS-67 (Endeavor)",
         "2"
        ],
        [
         "195",
         "STS-40 (Columbia)",
         "2"
        ],
        [
         "264",
         "STS-73 (Columbia)",
         "2"
        ],
        [
         "291",
         "STS-90 (Columbia)",
         "2"
        ],
        [
         "4",
         "Apollo 14",
         "2"
        ],
        [
         "5",
         "Apollo 15",
         "2"
        ],
        [
         "8",
         "Apollo 17",
         "2"
        ],
        [
         "9",
         "Apollo 7",
         "2"
        ],
        [
         "284",
         "STS-88 (Endeavor), STS-105 (Discovery), STS-117 (Atlantis), STS-128 (Discovery)",
         "1"
        ],
        [
         "285",
         "STS-89 (Endeavor)",
         "1"
        ],
        [
         "286",
         "STS-89 (Endeavor), STS-104 (Atlantis), STS-117 (Atlantis)",
         "1"
        ],
        [
         "287",
         "STS-89 (Endeavor), STS-107 (Columbia)",
         "1"
        ],
        [
         "0",
         "Apollo 1",
         "1"
        ],
        [
         "17",
         "Gemini 3, Gemini 10, Apollo 10, Apollo 16, STS-1 (Columbia), STS-9 (Columbia)",
         "1"
        ],
        [
         "18",
         "Gemini 4, Apollo 1",
         "1"
        ],
        [
         "19",
         "Gemini 4, Apollo 9",
         "1"
        ],
        [
         "20",
         "Gemini 5, Gemini 11, Apollo 12, Skylab 2",
         "1"
        ],
        [
         "21",
         "Gemini 6, Gemini 9, Apollo 10, Apollo-Soyuz Test Project",
         "1"
        ],
        [
         "22",
         "Gemini 7, Apollo 8",
         "1"
        ],
        [
         "23",
         "Gemini 7, Gemini 12, Apollo 8, Apollo 13",
         "1"
        ],
        [
         "24",
         "Gemini 8, Apollo 11",
         "1"
        ],
        [
         "25",
         "Gemini 8, Apollo 9, Apollo 15",
         "1"
        ],
        [
         "26",
         "Gemini 9, Apollo 10, Apollo 17",
         "1"
        ],
        [
         "27",
         "ISS-09 (Soyuz), ISS-18 (Soyuz), STS-134 (Endeavor)",
         "1"
        ],
        [
         "28",
         "ISS-19/20 (Soyuz), STS-133 (Discovery)",
         "1"
        ],
        [
         "29",
         "ISS-22/23 (Soyuz)",
         "1"
        ],
        [
         "30",
         "ISS-24/25 (Soyuz)",
         "1"
        ],
        [
         "31",
         "ISS-37/38 (Soyuz)",
         "1"
        ],
        [
         "32",
         "ISS-40/41 (Soyuz)",
         "1"
        ],
        [
         "33",
         "ISS-44/45 (Soyuz)",
         "1"
        ],
        [
         "34",
         "ISS-48/49 (Soyuz)",
         "1"
        ],
        [
         "35",
         "ISS-6 (Soyuz), STS-126 (Endeavor), ISS-30/31 (Soyuz)",
         "1"
        ],
        [
         "36",
         "Mercury 3, Apollo 14",
         "1"
        ],
        [
         "37",
         "Mercury 4, Gemini 3, Apollo 1",
         "1"
        ],
        [
         "38",
         "Mercury 6, STS-95 (Discovery)",
         "1"
        ],
        [
         "39",
         "Mercury 7",
         "1"
        ],
        [
         "40",
         "Mercury 8, Gemini 6, Apollo 7",
         "1"
        ]
       ],
       "shape": {
        "columns": 2,
        "rows": 305
       }
      },
      "text/html": [
       "<div>\n",
       "<style scoped>\n",
       "    .dataframe tbody tr th:only-of-type {\n",
       "        vertical-align: middle;\n",
       "    }\n",
       "\n",
       "    .dataframe tbody tr th {\n",
       "        vertical-align: top;\n",
       "    }\n",
       "\n",
       "    .dataframe thead th {\n",
       "        text-align: right;\n",
       "    }\n",
       "</style>\n",
       "<table border=\"1\" class=\"dataframe\">\n",
       "  <thead>\n",
       "    <tr style=\"text-align: right;\">\n",
       "      <th></th>\n",
       "      <th>Missions</th>\n",
       "      <th>Count</th>\n",
       "    </tr>\n",
       "  </thead>\n",
       "  <tbody>\n",
       "    <tr>\n",
       "      <th>74</th>\n",
       "      <td>STS 51-F (Challenger)</td>\n",
       "      <td>5</td>\n",
       "    </tr>\n",
       "    <tr>\n",
       "      <th>64</th>\n",
       "      <td>STS 51-B (Challenger)</td>\n",
       "      <td>3</td>\n",
       "    </tr>\n",
       "    <tr>\n",
       "      <th>100</th>\n",
       "      <td>STS-107 (Columbia)</td>\n",
       "      <td>3</td>\n",
       "    </tr>\n",
       "    <tr>\n",
       "      <th>276</th>\n",
       "      <td>STS-83 (Columbia), STS-94 (Columbia)</td>\n",
       "      <td>3</td>\n",
       "    </tr>\n",
       "    <tr>\n",
       "      <th>82</th>\n",
       "      <td>STS 51-L (Challenger)</td>\n",
       "      <td>3</td>\n",
       "    </tr>\n",
       "    <tr>\n",
       "      <th>...</th>\n",
       "      <td>...</td>\n",
       "      <td>...</td>\n",
       "    </tr>\n",
       "    <tr>\n",
       "      <th>12</th>\n",
       "      <td>Apollo-Soyuz Test Project</td>\n",
       "      <td>1</td>\n",
       "    </tr>\n",
       "    <tr>\n",
       "      <th>13</th>\n",
       "      <td>Apollo-Soyuz Test Project, STS-5 (Columbia), S...</td>\n",
       "      <td>1</td>\n",
       "    </tr>\n",
       "    <tr>\n",
       "      <th>14</th>\n",
       "      <td>Gemini 10, Apollo 11</td>\n",
       "      <td>1</td>\n",
       "    </tr>\n",
       "    <tr>\n",
       "      <th>15</th>\n",
       "      <td>Gemini 11, Apollo 12</td>\n",
       "      <td>1</td>\n",
       "    </tr>\n",
       "    <tr>\n",
       "      <th>288</th>\n",
       "      <td>STS-9 (Columbia), STS 61-B (Atlantis), STS-28 ...</td>\n",
       "      <td>1</td>\n",
       "    </tr>\n",
       "  </tbody>\n",
       "</table>\n",
       "<p>305 rows × 2 columns</p>\n",
       "</div>"
      ],
      "text/plain": [
       "                                              Missions  Count\n",
       "74                               STS 51-F (Challenger)      5\n",
       "64                               STS 51-B (Challenger)      3\n",
       "100                                 STS-107 (Columbia)      3\n",
       "276               STS-83 (Columbia), STS-94 (Columbia)      3\n",
       "82                               STS 51-L (Challenger)      3\n",
       "..                                                 ...    ...\n",
       "12                           Apollo-Soyuz Test Project      1\n",
       "13   Apollo-Soyuz Test Project, STS-5 (Columbia), S...      1\n",
       "14                                Gemini 10, Apollo 11      1\n",
       "15                                Gemini 11, Apollo 12      1\n",
       "288  STS-9 (Columbia), STS 61-B (Atlantis), STS-28 ...      1\n",
       "\n",
       "[305 rows x 2 columns]"
      ]
     },
     "execution_count": 57,
     "metadata": {},
     "output_type": "execute_result"
    }
   ],
   "source": [
    "df_astronauts.groupby('Missions').size().reset_index(name= \"Count\").sort_values(by = [\"Count\"], ascending= [False])"
   ]
  },
  {
   "cell_type": "markdown",
   "id": "063feb7b",
   "metadata": {},
   "source": [
    "# Data Pre-Processing"
   ]
  },
  {
   "cell_type": "markdown",
   "id": "5e5bc881",
   "metadata": {},
   "source": [
    "## Handling Missing Values\n",
    "\n",
    "There are 3 ways to handle missing values:\n",
    "\n",
    "1. **Remove**  \n",
    "  \n",
    "2. **Replace**  \n",
    "   Replace missing values with:\n",
    "   - Mean (for numerical data)\n",
    "   - Mode (for categorical/string data)  \n",
    "3. **Mask**  \n",
    "   Use a special placeholder value to indicate missingness without altering data.\n"
   ]
  },
  {
   "cell_type": "code",
   "execution_count": 58,
   "id": "0255b0c2",
   "metadata": {},
   "outputs": [
    {
     "data": {
      "application/vnd.microsoft.datawrangler.viewer.v0+json": {
       "columns": [
        {
         "name": "index",
         "rawType": "object",
         "type": "string"
        },
        {
         "name": "0",
         "rawType": "int64",
         "type": "integer"
        }
       ],
       "ref": "5ed8c317-7240-4493-a1e0-79a000b00e8c",
       "rows": [
        [
         "Name",
         "0"
        ],
        [
         "Year",
         "0"
        ],
        [
         "Group",
         "0"
        ],
        [
         "Status",
         "0"
        ],
        [
         "Birth Date",
         "0"
        ],
        [
         "Birth Place",
         "0"
        ],
        [
         "Gender",
         "0"
        ],
        [
         "Alma Mater",
         "0"
        ],
        [
         "Undergraduate Major",
         "0"
        ],
        [
         "Graduate Major",
         "0"
        ],
        [
         "Military Rank",
         "0"
        ],
        [
         "Military Branch",
         "0"
        ],
        [
         "Space Flights",
         "0"
        ],
        [
         "Space Flight (hr)",
         "0"
        ],
        [
         "Space Walks",
         "0"
        ],
        [
         "Space Walks (hr)",
         "0"
        ],
        [
         "Missions",
         "0"
        ],
        [
         "Death Date",
         "0"
        ],
        [
         "Death Mission",
         "0"
        ],
        [
         "gender_encode",
         "0"
        ]
       ],
       "shape": {
        "columns": 1,
        "rows": 20
       }
      },
      "text/plain": [
       "Name                   0\n",
       "Year                   0\n",
       "Group                  0\n",
       "Status                 0\n",
       "Birth Date             0\n",
       "Birth Place            0\n",
       "Gender                 0\n",
       "Alma Mater             0\n",
       "Undergraduate Major    0\n",
       "Graduate Major         0\n",
       "Military Rank          0\n",
       "Military Branch        0\n",
       "Space Flights          0\n",
       "Space Flight (hr)      0\n",
       "Space Walks            0\n",
       "Space Walks (hr)       0\n",
       "Missions               0\n",
       "Death Date             0\n",
       "Death Mission          0\n",
       "gender_encode          0\n",
       "dtype: int64"
      ]
     },
     "execution_count": 58,
     "metadata": {},
     "output_type": "execute_result"
    }
   ],
   "source": [
    "for col in df_astronauts.columns:\n",
    "    if df_astronauts[col].dtype in [\"float64\", \"int64\"] : \n",
    "        df_astronauts[col] = df_astronauts[col].fillna(df_astronauts[col].mean())\n",
    "    \n",
    "    else:\n",
    "        df_astronauts[col] = df_astronauts[col].fillna(df_astronauts[col].mode().iloc[0])\n",
    "         \n",
    "df_astronauts.isna().sum()"
   ]
  },
  {
   "cell_type": "markdown",
   "id": "95e5deb7",
   "metadata": {},
   "source": [
    "## Encode categorical variables"
   ]
  },
  {
   "cell_type": "code",
   "execution_count": 59,
   "id": "9741f8f7",
   "metadata": {},
   "outputs": [
    {
     "data": {
      "application/vnd.microsoft.datawrangler.viewer.v0+json": {
       "columns": [
        {
         "name": "Status",
         "rawType": "object",
         "type": "string"
        },
        {
         "name": "count",
         "rawType": "int64",
         "type": "integer"
        }
       ],
       "ref": "b10226b1-739e-4cee-a925-6e616c80e221",
       "rows": [
        [
         "Retired",
         "220"
        ],
        [
         "Deceased",
         "51"
        ],
        [
         "Active",
         "50"
        ],
        [
         "Management",
         "36"
        ]
       ],
       "shape": {
        "columns": 1,
        "rows": 4
       }
      },
      "text/plain": [
       "Status\n",
       "Retired       220\n",
       "Deceased       51\n",
       "Active         50\n",
       "Management     36\n",
       "Name: count, dtype: int64"
      ]
     },
     "execution_count": 59,
     "metadata": {},
     "output_type": "execute_result"
    }
   ],
   "source": [
    "df_astronauts['Status'].value_counts() "
   ]
  },
  {
   "cell_type": "code",
   "execution_count": 60,
   "id": "df3a0235",
   "metadata": {},
   "outputs": [
    {
     "data": {
      "application/vnd.microsoft.datawrangler.viewer.v0+json": {
       "columns": [
        {
         "name": "status_encode",
         "rawType": "int64",
         "type": "integer"
        },
        {
         "name": "count",
         "rawType": "int64",
         "type": "integer"
        }
       ],
       "ref": "289c45df-af7f-424c-9e28-c8aa301ccb94",
       "rows": [
        [
         "3",
         "220"
        ],
        [
         "4",
         "51"
        ],
        [
         "1",
         "50"
        ],
        [
         "2",
         "36"
        ]
       ],
       "shape": {
        "columns": 1,
        "rows": 4
       }
      },
      "text/plain": [
       "status_encode\n",
       "3    220\n",
       "4     51\n",
       "1     50\n",
       "2     36\n",
       "Name: count, dtype: int64"
      ]
     },
     "execution_count": 60,
     "metadata": {},
     "output_type": "execute_result"
    }
   ],
   "source": [
    "#Encode gender earlier for correlation analysis \n",
    "#Now Encode the status \n",
    "df_astronauts['status_encode'] = df_astronauts['Status'].map({'Active': 1,'Management':2, 'Retired': 3,'Deceased':4})\n",
    "df_astronauts[\"status_encode\"].value_counts() "
   ]
  },
  {
   "cell_type": "code",
   "execution_count": 61,
   "id": "62c9723c",
   "metadata": {},
   "outputs": [
    {
     "data": {
      "application/vnd.microsoft.datawrangler.viewer.v0+json": {
       "columns": [
        {
         "name": "index",
         "rawType": "object",
         "type": "string"
        },
        {
         "name": "Space Walks (hr)",
         "rawType": "float64",
         "type": "float"
        }
       ],
       "ref": "625e04e8-bec0-43a6-9811-a256bcf73404",
       "rows": [
        [
         "Space Walks",
         "0.9857550418026985"
        ],
        [
         "Space Flight (hr)",
         "0.4544079500258223"
        ],
        [
         "Space Flights",
         "0.2586419794951325"
        ],
        [
         "Group",
         "0.25779480315688064"
        ],
        [
         "Year",
         "0.2500214501698033"
        ],
        [
         "gender_encode",
         "0.09877478848860857"
        ],
        [
         "Branch group",
         "-0.03685018370941352"
        ],
        [
         "Rank group",
         "-0.10241642777735471"
        ],
        [
         "status_encode",
         "-0.34745836616064857"
        ]
       ],
       "shape": {
        "columns": 1,
        "rows": 9
       }
      },
      "text/plain": [
       "Space Walks          0.985755\n",
       "Space Flight (hr)    0.454408\n",
       "Space Flights        0.258642\n",
       "Group                0.257795\n",
       "Year                 0.250021\n",
       "gender_encode        0.098775\n",
       "Branch group        -0.036850\n",
       "Rank group          -0.102416\n",
       "status_encode       -0.347458\n",
       "Name: Space Walks (hr), dtype: float64"
      ]
     },
     "execution_count": 61,
     "metadata": {},
     "output_type": "execute_result"
    }
   ],
   "source": [
    "from sklearn.calibration import LabelEncoder\n",
    "\n",
    "\n",
    "branch_counts = df_astronauts['Military Branch'].value_counts()\n",
    "df_astronauts['Branch group']  = df_astronauts['Military Branch'].apply(lambda x:x  if branch_counts[x]>=10 else \"Other\")\n",
    " \n",
    "rank_counts = df_astronauts['Military Rank'].value_counts()\n",
    "df_astronauts['Rank group']  = df_astronauts['Military Rank'].apply(lambda x:x if rank_counts[x]>=10 else \"Other\")\n",
    "\n",
    "df_astronauts['Rank group'] = LabelEncoder().fit_transform(df_astronauts['Rank group'])\n",
    "df_astronauts['Branch group'] = LabelEncoder().fit_transform(df_astronauts['Branch group'])\n",
    "df_numerics = df_astronauts.select_dtypes(include = ['float64', 'int64'])\n",
    "corr_with_label = df_numerics.corr()['Space Walks (hr)'].sort_values(ascending= False)[1:]\n",
    "corr_with_label\n"
   ]
  },
  {
   "cell_type": "markdown",
   "id": "7c8e43d3",
   "metadata": {},
   "source": [
    "### Way to Normalize features are :\n",
    "- Standarization\n",
    "- Normalization using  **MinMaXScalar** from Sklearn library\n",
    "### But in random Forest scaling is not required "
   ]
  },
  {
   "cell_type": "markdown",
   "id": "34d5f4af",
   "metadata": {},
   "source": [
    "# Machine Learning Model"
   ]
  },
  {
   "cell_type": "code",
   "execution_count": 62,
   "id": "07539bc0",
   "metadata": {},
   "outputs": [],
   "source": [
    "\n",
    "from sklearn.model_selection import train_test_split\n",
    "from sklearn.ensemble import RandomForestRegressor \n",
    "\n"
   ]
  },
  {
   "cell_type": "markdown",
   "id": "58b71882",
   "metadata": {},
   "source": [
    "Selected First 350 rows to train and test data  "
   ]
  },
  {
   "cell_type": "code",
   "execution_count": 63,
   "id": "21b1c8d3",
   "metadata": {},
   "outputs": [],
   "source": [
    "total_features = df_astronauts.loc[:350, ['Year', 'gender_encode','Space Flights', 'Space Walks', 'Rank group']]\n",
    "features = df_astronauts.loc[: 350, ['Year', 'gender_encode','Space Flights', 'Space Walks', 'Rank group']]\n",
    "total_targets = df_astronauts['Space Walks (hr)']\n",
    "targets = df_astronauts['Space Walks (hr)'].loc[:350]\n"
   ]
  },
  {
   "cell_type": "code",
   "execution_count": 64,
   "id": "66c16525",
   "metadata": {},
   "outputs": [
    {
     "data": {
      "text/html": [
       "<style>#sk-container-id-2 {\n",
       "  /* Definition of color scheme common for light and dark mode */\n",
       "  --sklearn-color-text: #000;\n",
       "  --sklearn-color-text-muted: #666;\n",
       "  --sklearn-color-line: gray;\n",
       "  /* Definition of color scheme for unfitted estimators */\n",
       "  --sklearn-color-unfitted-level-0: #fff5e6;\n",
       "  --sklearn-color-unfitted-level-1: #f6e4d2;\n",
       "  --sklearn-color-unfitted-level-2: #ffe0b3;\n",
       "  --sklearn-color-unfitted-level-3: chocolate;\n",
       "  /* Definition of color scheme for fitted estimators */\n",
       "  --sklearn-color-fitted-level-0: #f0f8ff;\n",
       "  --sklearn-color-fitted-level-1: #d4ebff;\n",
       "  --sklearn-color-fitted-level-2: #b3dbfd;\n",
       "  --sklearn-color-fitted-level-3: cornflowerblue;\n",
       "\n",
       "  /* Specific color for light theme */\n",
       "  --sklearn-color-text-on-default-background: var(--sg-text-color, var(--theme-code-foreground, var(--jp-content-font-color1, black)));\n",
       "  --sklearn-color-background: var(--sg-background-color, var(--theme-background, var(--jp-layout-color0, white)));\n",
       "  --sklearn-color-border-box: var(--sg-text-color, var(--theme-code-foreground, var(--jp-content-font-color1, black)));\n",
       "  --sklearn-color-icon: #696969;\n",
       "\n",
       "  @media (prefers-color-scheme: dark) {\n",
       "    /* Redefinition of color scheme for dark theme */\n",
       "    --sklearn-color-text-on-default-background: var(--sg-text-color, var(--theme-code-foreground, var(--jp-content-font-color1, white)));\n",
       "    --sklearn-color-background: var(--sg-background-color, var(--theme-background, var(--jp-layout-color0, #111)));\n",
       "    --sklearn-color-border-box: var(--sg-text-color, var(--theme-code-foreground, var(--jp-content-font-color1, white)));\n",
       "    --sklearn-color-icon: #878787;\n",
       "  }\n",
       "}\n",
       "\n",
       "#sk-container-id-2 {\n",
       "  color: var(--sklearn-color-text);\n",
       "}\n",
       "\n",
       "#sk-container-id-2 pre {\n",
       "  padding: 0;\n",
       "}\n",
       "\n",
       "#sk-container-id-2 input.sk-hidden--visually {\n",
       "  border: 0;\n",
       "  clip: rect(1px 1px 1px 1px);\n",
       "  clip: rect(1px, 1px, 1px, 1px);\n",
       "  height: 1px;\n",
       "  margin: -1px;\n",
       "  overflow: hidden;\n",
       "  padding: 0;\n",
       "  position: absolute;\n",
       "  width: 1px;\n",
       "}\n",
       "\n",
       "#sk-container-id-2 div.sk-dashed-wrapped {\n",
       "  border: 1px dashed var(--sklearn-color-line);\n",
       "  margin: 0 0.4em 0.5em 0.4em;\n",
       "  box-sizing: border-box;\n",
       "  padding-bottom: 0.4em;\n",
       "  background-color: var(--sklearn-color-background);\n",
       "}\n",
       "\n",
       "#sk-container-id-2 div.sk-container {\n",
       "  /* jupyter's `normalize.less` sets `[hidden] { display: none; }`\n",
       "     but bootstrap.min.css set `[hidden] { display: none !important; }`\n",
       "     so we also need the `!important` here to be able to override the\n",
       "     default hidden behavior on the sphinx rendered scikit-learn.org.\n",
       "     See: https://github.com/scikit-learn/scikit-learn/issues/21755 */\n",
       "  display: inline-block !important;\n",
       "  position: relative;\n",
       "}\n",
       "\n",
       "#sk-container-id-2 div.sk-text-repr-fallback {\n",
       "  display: none;\n",
       "}\n",
       "\n",
       "div.sk-parallel-item,\n",
       "div.sk-serial,\n",
       "div.sk-item {\n",
       "  /* draw centered vertical line to link estimators */\n",
       "  background-image: linear-gradient(var(--sklearn-color-text-on-default-background), var(--sklearn-color-text-on-default-background));\n",
       "  background-size: 2px 100%;\n",
       "  background-repeat: no-repeat;\n",
       "  background-position: center center;\n",
       "}\n",
       "\n",
       "/* Parallel-specific style estimator block */\n",
       "\n",
       "#sk-container-id-2 div.sk-parallel-item::after {\n",
       "  content: \"\";\n",
       "  width: 100%;\n",
       "  border-bottom: 2px solid var(--sklearn-color-text-on-default-background);\n",
       "  flex-grow: 1;\n",
       "}\n",
       "\n",
       "#sk-container-id-2 div.sk-parallel {\n",
       "  display: flex;\n",
       "  align-items: stretch;\n",
       "  justify-content: center;\n",
       "  background-color: var(--sklearn-color-background);\n",
       "  position: relative;\n",
       "}\n",
       "\n",
       "#sk-container-id-2 div.sk-parallel-item {\n",
       "  display: flex;\n",
       "  flex-direction: column;\n",
       "}\n",
       "\n",
       "#sk-container-id-2 div.sk-parallel-item:first-child::after {\n",
       "  align-self: flex-end;\n",
       "  width: 50%;\n",
       "}\n",
       "\n",
       "#sk-container-id-2 div.sk-parallel-item:last-child::after {\n",
       "  align-self: flex-start;\n",
       "  width: 50%;\n",
       "}\n",
       "\n",
       "#sk-container-id-2 div.sk-parallel-item:only-child::after {\n",
       "  width: 0;\n",
       "}\n",
       "\n",
       "/* Serial-specific style estimator block */\n",
       "\n",
       "#sk-container-id-2 div.sk-serial {\n",
       "  display: flex;\n",
       "  flex-direction: column;\n",
       "  align-items: center;\n",
       "  background-color: var(--sklearn-color-background);\n",
       "  padding-right: 1em;\n",
       "  padding-left: 1em;\n",
       "}\n",
       "\n",
       "\n",
       "/* Toggleable style: style used for estimator/Pipeline/ColumnTransformer box that is\n",
       "clickable and can be expanded/collapsed.\n",
       "- Pipeline and ColumnTransformer use this feature and define the default style\n",
       "- Estimators will overwrite some part of the style using the `sk-estimator` class\n",
       "*/\n",
       "\n",
       "/* Pipeline and ColumnTransformer style (default) */\n",
       "\n",
       "#sk-container-id-2 div.sk-toggleable {\n",
       "  /* Default theme specific background. It is overwritten whether we have a\n",
       "  specific estimator or a Pipeline/ColumnTransformer */\n",
       "  background-color: var(--sklearn-color-background);\n",
       "}\n",
       "\n",
       "/* Toggleable label */\n",
       "#sk-container-id-2 label.sk-toggleable__label {\n",
       "  cursor: pointer;\n",
       "  display: flex;\n",
       "  width: 100%;\n",
       "  margin-bottom: 0;\n",
       "  padding: 0.5em;\n",
       "  box-sizing: border-box;\n",
       "  text-align: center;\n",
       "  align-items: start;\n",
       "  justify-content: space-between;\n",
       "  gap: 0.5em;\n",
       "}\n",
       "\n",
       "#sk-container-id-2 label.sk-toggleable__label .caption {\n",
       "  font-size: 0.6rem;\n",
       "  font-weight: lighter;\n",
       "  color: var(--sklearn-color-text-muted);\n",
       "}\n",
       "\n",
       "#sk-container-id-2 label.sk-toggleable__label-arrow:before {\n",
       "  /* Arrow on the left of the label */\n",
       "  content: \"▸\";\n",
       "  float: left;\n",
       "  margin-right: 0.25em;\n",
       "  color: var(--sklearn-color-icon);\n",
       "}\n",
       "\n",
       "#sk-container-id-2 label.sk-toggleable__label-arrow:hover:before {\n",
       "  color: var(--sklearn-color-text);\n",
       "}\n",
       "\n",
       "/* Toggleable content - dropdown */\n",
       "\n",
       "#sk-container-id-2 div.sk-toggleable__content {\n",
       "  max-height: 0;\n",
       "  max-width: 0;\n",
       "  overflow: hidden;\n",
       "  text-align: left;\n",
       "  /* unfitted */\n",
       "  background-color: var(--sklearn-color-unfitted-level-0);\n",
       "}\n",
       "\n",
       "#sk-container-id-2 div.sk-toggleable__content.fitted {\n",
       "  /* fitted */\n",
       "  background-color: var(--sklearn-color-fitted-level-0);\n",
       "}\n",
       "\n",
       "#sk-container-id-2 div.sk-toggleable__content pre {\n",
       "  margin: 0.2em;\n",
       "  border-radius: 0.25em;\n",
       "  color: var(--sklearn-color-text);\n",
       "  /* unfitted */\n",
       "  background-color: var(--sklearn-color-unfitted-level-0);\n",
       "}\n",
       "\n",
       "#sk-container-id-2 div.sk-toggleable__content.fitted pre {\n",
       "  /* unfitted */\n",
       "  background-color: var(--sklearn-color-fitted-level-0);\n",
       "}\n",
       "\n",
       "#sk-container-id-2 input.sk-toggleable__control:checked~div.sk-toggleable__content {\n",
       "  /* Expand drop-down */\n",
       "  max-height: 200px;\n",
       "  max-width: 100%;\n",
       "  overflow: auto;\n",
       "}\n",
       "\n",
       "#sk-container-id-2 input.sk-toggleable__control:checked~label.sk-toggleable__label-arrow:before {\n",
       "  content: \"▾\";\n",
       "}\n",
       "\n",
       "/* Pipeline/ColumnTransformer-specific style */\n",
       "\n",
       "#sk-container-id-2 div.sk-label input.sk-toggleable__control:checked~label.sk-toggleable__label {\n",
       "  color: var(--sklearn-color-text);\n",
       "  background-color: var(--sklearn-color-unfitted-level-2);\n",
       "}\n",
       "\n",
       "#sk-container-id-2 div.sk-label.fitted input.sk-toggleable__control:checked~label.sk-toggleable__label {\n",
       "  background-color: var(--sklearn-color-fitted-level-2);\n",
       "}\n",
       "\n",
       "/* Estimator-specific style */\n",
       "\n",
       "/* Colorize estimator box */\n",
       "#sk-container-id-2 div.sk-estimator input.sk-toggleable__control:checked~label.sk-toggleable__label {\n",
       "  /* unfitted */\n",
       "  background-color: var(--sklearn-color-unfitted-level-2);\n",
       "}\n",
       "\n",
       "#sk-container-id-2 div.sk-estimator.fitted input.sk-toggleable__control:checked~label.sk-toggleable__label {\n",
       "  /* fitted */\n",
       "  background-color: var(--sklearn-color-fitted-level-2);\n",
       "}\n",
       "\n",
       "#sk-container-id-2 div.sk-label label.sk-toggleable__label,\n",
       "#sk-container-id-2 div.sk-label label {\n",
       "  /* The background is the default theme color */\n",
       "  color: var(--sklearn-color-text-on-default-background);\n",
       "}\n",
       "\n",
       "/* On hover, darken the color of the background */\n",
       "#sk-container-id-2 div.sk-label:hover label.sk-toggleable__label {\n",
       "  color: var(--sklearn-color-text);\n",
       "  background-color: var(--sklearn-color-unfitted-level-2);\n",
       "}\n",
       "\n",
       "/* Label box, darken color on hover, fitted */\n",
       "#sk-container-id-2 div.sk-label.fitted:hover label.sk-toggleable__label.fitted {\n",
       "  color: var(--sklearn-color-text);\n",
       "  background-color: var(--sklearn-color-fitted-level-2);\n",
       "}\n",
       "\n",
       "/* Estimator label */\n",
       "\n",
       "#sk-container-id-2 div.sk-label label {\n",
       "  font-family: monospace;\n",
       "  font-weight: bold;\n",
       "  display: inline-block;\n",
       "  line-height: 1.2em;\n",
       "}\n",
       "\n",
       "#sk-container-id-2 div.sk-label-container {\n",
       "  text-align: center;\n",
       "}\n",
       "\n",
       "/* Estimator-specific */\n",
       "#sk-container-id-2 div.sk-estimator {\n",
       "  font-family: monospace;\n",
       "  border: 1px dotted var(--sklearn-color-border-box);\n",
       "  border-radius: 0.25em;\n",
       "  box-sizing: border-box;\n",
       "  margin-bottom: 0.5em;\n",
       "  /* unfitted */\n",
       "  background-color: var(--sklearn-color-unfitted-level-0);\n",
       "}\n",
       "\n",
       "#sk-container-id-2 div.sk-estimator.fitted {\n",
       "  /* fitted */\n",
       "  background-color: var(--sklearn-color-fitted-level-0);\n",
       "}\n",
       "\n",
       "/* on hover */\n",
       "#sk-container-id-2 div.sk-estimator:hover {\n",
       "  /* unfitted */\n",
       "  background-color: var(--sklearn-color-unfitted-level-2);\n",
       "}\n",
       "\n",
       "#sk-container-id-2 div.sk-estimator.fitted:hover {\n",
       "  /* fitted */\n",
       "  background-color: var(--sklearn-color-fitted-level-2);\n",
       "}\n",
       "\n",
       "/* Specification for estimator info (e.g. \"i\" and \"?\") */\n",
       "\n",
       "/* Common style for \"i\" and \"?\" */\n",
       "\n",
       ".sk-estimator-doc-link,\n",
       "a:link.sk-estimator-doc-link,\n",
       "a:visited.sk-estimator-doc-link {\n",
       "  float: right;\n",
       "  font-size: smaller;\n",
       "  line-height: 1em;\n",
       "  font-family: monospace;\n",
       "  background-color: var(--sklearn-color-background);\n",
       "  border-radius: 1em;\n",
       "  height: 1em;\n",
       "  width: 1em;\n",
       "  text-decoration: none !important;\n",
       "  margin-left: 0.5em;\n",
       "  text-align: center;\n",
       "  /* unfitted */\n",
       "  border: var(--sklearn-color-unfitted-level-1) 1pt solid;\n",
       "  color: var(--sklearn-color-unfitted-level-1);\n",
       "}\n",
       "\n",
       ".sk-estimator-doc-link.fitted,\n",
       "a:link.sk-estimator-doc-link.fitted,\n",
       "a:visited.sk-estimator-doc-link.fitted {\n",
       "  /* fitted */\n",
       "  border: var(--sklearn-color-fitted-level-1) 1pt solid;\n",
       "  color: var(--sklearn-color-fitted-level-1);\n",
       "}\n",
       "\n",
       "/* On hover */\n",
       "div.sk-estimator:hover .sk-estimator-doc-link:hover,\n",
       ".sk-estimator-doc-link:hover,\n",
       "div.sk-label-container:hover .sk-estimator-doc-link:hover,\n",
       ".sk-estimator-doc-link:hover {\n",
       "  /* unfitted */\n",
       "  background-color: var(--sklearn-color-unfitted-level-3);\n",
       "  color: var(--sklearn-color-background);\n",
       "  text-decoration: none;\n",
       "}\n",
       "\n",
       "div.sk-estimator.fitted:hover .sk-estimator-doc-link.fitted:hover,\n",
       ".sk-estimator-doc-link.fitted:hover,\n",
       "div.sk-label-container:hover .sk-estimator-doc-link.fitted:hover,\n",
       ".sk-estimator-doc-link.fitted:hover {\n",
       "  /* fitted */\n",
       "  background-color: var(--sklearn-color-fitted-level-3);\n",
       "  color: var(--sklearn-color-background);\n",
       "  text-decoration: none;\n",
       "}\n",
       "\n",
       "/* Span, style for the box shown on hovering the info icon */\n",
       ".sk-estimator-doc-link span {\n",
       "  display: none;\n",
       "  z-index: 9999;\n",
       "  position: relative;\n",
       "  font-weight: normal;\n",
       "  right: .2ex;\n",
       "  padding: .5ex;\n",
       "  margin: .5ex;\n",
       "  width: min-content;\n",
       "  min-width: 20ex;\n",
       "  max-width: 50ex;\n",
       "  color: var(--sklearn-color-text);\n",
       "  box-shadow: 2pt 2pt 4pt #999;\n",
       "  /* unfitted */\n",
       "  background: var(--sklearn-color-unfitted-level-0);\n",
       "  border: .5pt solid var(--sklearn-color-unfitted-level-3);\n",
       "}\n",
       "\n",
       ".sk-estimator-doc-link.fitted span {\n",
       "  /* fitted */\n",
       "  background: var(--sklearn-color-fitted-level-0);\n",
       "  border: var(--sklearn-color-fitted-level-3);\n",
       "}\n",
       "\n",
       ".sk-estimator-doc-link:hover span {\n",
       "  display: block;\n",
       "}\n",
       "\n",
       "/* \"?\"-specific style due to the `<a>` HTML tag */\n",
       "\n",
       "#sk-container-id-2 a.estimator_doc_link {\n",
       "  float: right;\n",
       "  font-size: 1rem;\n",
       "  line-height: 1em;\n",
       "  font-family: monospace;\n",
       "  background-color: var(--sklearn-color-background);\n",
       "  border-radius: 1rem;\n",
       "  height: 1rem;\n",
       "  width: 1rem;\n",
       "  text-decoration: none;\n",
       "  /* unfitted */\n",
       "  color: var(--sklearn-color-unfitted-level-1);\n",
       "  border: var(--sklearn-color-unfitted-level-1) 1pt solid;\n",
       "}\n",
       "\n",
       "#sk-container-id-2 a.estimator_doc_link.fitted {\n",
       "  /* fitted */\n",
       "  border: var(--sklearn-color-fitted-level-1) 1pt solid;\n",
       "  color: var(--sklearn-color-fitted-level-1);\n",
       "}\n",
       "\n",
       "/* On hover */\n",
       "#sk-container-id-2 a.estimator_doc_link:hover {\n",
       "  /* unfitted */\n",
       "  background-color: var(--sklearn-color-unfitted-level-3);\n",
       "  color: var(--sklearn-color-background);\n",
       "  text-decoration: none;\n",
       "}\n",
       "\n",
       "#sk-container-id-2 a.estimator_doc_link.fitted:hover {\n",
       "  /* fitted */\n",
       "  background-color: var(--sklearn-color-fitted-level-3);\n",
       "}\n",
       "</style><div id=\"sk-container-id-2\" class=\"sk-top-container\"><div class=\"sk-text-repr-fallback\"><pre>RandomForestRegressor(random_state=42)</pre><b>In a Jupyter environment, please rerun this cell to show the HTML representation or trust the notebook. <br />On GitHub, the HTML representation is unable to render, please try loading this page with nbviewer.org.</b></div><div class=\"sk-container\" hidden><div class=\"sk-item\"><div class=\"sk-estimator fitted sk-toggleable\"><input class=\"sk-toggleable__control sk-hidden--visually\" id=\"sk-estimator-id-2\" type=\"checkbox\" checked><label for=\"sk-estimator-id-2\" class=\"sk-toggleable__label fitted sk-toggleable__label-arrow\"><div><div>RandomForestRegressor</div></div><div><a class=\"sk-estimator-doc-link fitted\" rel=\"noreferrer\" target=\"_blank\" href=\"https://scikit-learn.org/1.6/modules/generated/sklearn.ensemble.RandomForestRegressor.html\">?<span>Documentation for RandomForestRegressor</span></a><span class=\"sk-estimator-doc-link fitted\">i<span>Fitted</span></span></div></label><div class=\"sk-toggleable__content fitted\"><pre>RandomForestRegressor(random_state=42)</pre></div> </div></div></div></div>"
      ],
      "text/plain": [
       "RandomForestRegressor(random_state=42)"
      ]
     },
     "execution_count": 64,
     "metadata": {},
     "output_type": "execute_result"
    }
   ],
   "source": [
    "\n",
    "X_train, X_test, y_train, y_test = train_test_split(features,targets, test_size=0.3 ,random_state=42)\n",
    "model = RandomForestRegressor(n_estimators=100, random_state=42)\n",
    "model.fit(X_train, y_train)\n"
   ]
  },
  {
   "cell_type": "code",
   "execution_count": 65,
   "id": "31552b31",
   "metadata": {},
   "outputs": [
    {
     "name": "stdout",
     "output_type": "stream",
     "text": [
      "Model R^2 Score on train data : 0.994\n",
      "Model R^2 Score on test data : 0.961\n"
     ]
    }
   ],
   "source": [
    "# Evaluate \n",
    "score_test = model.score(X_test, y_test)\n",
    "score_on_train_data =  model.score(X_train, y_train)\n",
    "\n",
    "print(\"Model R^2 Score on train data :\", round(score_on_train_data, 3))\n",
    "print(\"Model R^2 Score on test data :\", round(score_test, 3)) "
   ]
  },
  {
   "cell_type": "code",
   "execution_count": 66,
   "id": "82ecc47a",
   "metadata": {},
   "outputs": [
    {
     "data": {
      "text/plain": [
       "('prediction ', array([18.28]), ' True label ', np.float64(20.0))"
      ]
     },
     "execution_count": 66,
     "metadata": {},
     "output_type": "execute_result"
    }
   ],
   "source": [
    "## checking on remaining 6 rows\n",
    "true_label = df_astronauts['Space Walks (hr)'].loc[351] \n",
    "X = df_astronauts.loc[[351], ['Year', 'gender_encode','Space Flights', 'Space Walks', 'Rank group']]  \n",
    "pred = model.predict(X)\n",
    "\"prediction \", pred, \" True label \", true_label\n"
   ]
  },
  {
   "cell_type": "code",
   "execution_count": 67,
   "id": "46c33c28",
   "metadata": {},
   "outputs": [
    {
     "data": {
      "text/plain": [
       "['rf_model.pkl']"
      ]
     },
     "execution_count": 67,
     "metadata": {},
     "output_type": "execute_result"
    }
   ],
   "source": [
    "import joblib\n",
    "\n",
    "# Save the model\n",
    "joblib.dump(model, 'rf_model.pkl')\n",
    "\n"
   ]
  },
  {
   "cell_type": "code",
   "execution_count": 68,
   "id": "1fbf7e33",
   "metadata": {},
   "outputs": [],
   "source": [
    "df_astronauts = pd.read_csv('astronauts.csv')\n",
    "sample = df_astronauts.tail().drop('Space Walks (hr)',axis = 1)"
   ]
  }
 ],
 "metadata": {
  "kernelspec": {
   "display_name": "Python 3",
   "language": "python",
   "name": "python3"
  },
  "language_info": {
   "codemirror_mode": {
    "name": "ipython",
    "version": 3
   },
   "file_extension": ".py",
   "mimetype": "text/x-python",
   "name": "python",
   "nbconvert_exporter": "python",
   "pygments_lexer": "ipython3",
   "version": "3.12.4"
  }
 },
 "nbformat": 4,
 "nbformat_minor": 5
}
